{
 "cells": [
  {
   "cell_type": "code",
   "execution_count": 1,
   "metadata": {},
   "outputs": [],
   "source": [
    "import smblueprint as sm"
   ]
  },
  {
   "cell_type": "code",
   "execution_count": null,
   "metadata": {},
   "outputs": [
    {
     "ename": "AssertionError",
     "evalue": "parameter \"partId\" should be of type \"ShapeID.Parts\"",
     "output_type": "error",
     "traceback": [
      "\u001b[0;31m---------------------------------------------------------------------------\u001b[0m",
      "\u001b[0;31mAssertionError\u001b[0m                            Traceback (most recent call last)",
      "Cell \u001b[0;32mIn[2], line 5\u001b[0m\n\u001b[1;32m      2\u001b[0m bd \u001b[38;5;241m=\u001b[39m sm\u001b[38;5;241m.\u001b[39mBody(bp)\n\u001b[1;32m      4\u001b[0m block \u001b[38;5;241m=\u001b[39m sm\u001b[38;5;241m.\u001b[39mBlock(bd, sm\u001b[38;5;241m.\u001b[39mShapeID\u001b[38;5;241m.\u001b[39mBlocks\u001b[38;5;241m.\u001b[39mSpaceship)\n\u001b[0;32m----> 5\u001b[0m part \u001b[38;5;241m=\u001b[39m sm\u001b[38;5;241m.\u001b[39mPart(bd, \u001b[38;5;124m\"\u001b[39m\u001b[38;5;124m\"\u001b[39m)\n\u001b[1;32m      6\u001b[0m gate \u001b[38;5;241m=\u001b[39m sm\u001b[38;5;241m.\u001b[39mLogicGate(bd, sm\u001b[38;5;241m.\u001b[39mLogicGate\u001b[38;5;241m.\u001b[39mMode\u001b[38;5;241m.\u001b[39mXOR)\n\u001b[1;32m      7\u001b[0m timer \u001b[38;5;241m=\u001b[39m sm\u001b[38;5;241m.\u001b[39mTimer(bd, \u001b[38;5;241m1\u001b[39m, \u001b[38;5;241m20\u001b[39m)\n",
      "File \u001b[0;32m<string>:6\u001b[0m, in \u001b[0;36m__init__\u001b[0;34m(self, body, partId, pos, color, shapeId)\u001b[0m\n",
      "File \u001b[0;32m~/Desktop/SM/Scrap-Mechanic_Logic-Generator/smblueprint/smblueprint/part.py:14\u001b[0m, in \u001b[0;36mPart.__post_init__\u001b[0;34m(self, body, partId)\u001b[0m\n\u001b[1;32m     12\u001b[0m \u001b[38;5;28;01mdef\u001b[39;00m \u001b[38;5;21m__post_init__\u001b[39m(\u001b[38;5;28mself\u001b[39m, body, partId):\n\u001b[1;32m     13\u001b[0m     \u001b[38;5;28msuper\u001b[39m()\u001b[38;5;241m.\u001b[39m__post_init__(body)\n\u001b[0;32m---> 14\u001b[0m     \u001b[38;5;28;01massert\u001b[39;00m \u001b[38;5;28misinstance\u001b[39m(partId, ShapeID\u001b[38;5;241m.\u001b[39mParts), \\\n\u001b[1;32m     15\u001b[0m         \u001b[38;5;124m'\u001b[39m\u001b[38;5;124mparameter \u001b[39m\u001b[38;5;124m\"\u001b[39m\u001b[38;5;124mpartId\u001b[39m\u001b[38;5;124m\"\u001b[39m\u001b[38;5;124m should be of type \u001b[39m\u001b[38;5;124m\"\u001b[39m\u001b[38;5;124mShapeID.Parts\u001b[39m\u001b[38;5;124m\"\u001b[39m\u001b[38;5;124m'\u001b[39m\n\u001b[1;32m     16\u001b[0m     \u001b[38;5;28mself\u001b[39m\u001b[38;5;241m.\u001b[39mshapeId \u001b[38;5;241m=\u001b[39m partId\u001b[38;5;241m.\u001b[39mvalue\n",
      "\u001b[0;31mAssertionError\u001b[0m: parameter \"partId\" should be of type \"ShapeID.Parts\""
     ]
    }
   ],
   "source": [
    "bp = sm.Blueprint()\n",
    "bd = sm.Body(bp)\n",
    "\n",
    "block = sm.Block(bd, sm.ShapeID.Blocks.Spaceship)\n",
    "part = sm.Part(bd, sm.ShapeID.Parts.Banana)\n",
    "gate = sm.LogicGate(bd, sm.LogicGate.Mode.XOR)\n",
    "timer = sm.Timer(bd, 1, 20)\n",
    "sensor = sm.Sensor(bd, 20)"
   ]
  },
  {
   "cell_type": "code",
   "execution_count": 5,
   "metadata": {},
   "outputs": [
    {
     "name": "stdout",
     "output_type": "stream",
     "text": [
      "{\n",
      "    \"version\": 4,\n",
      "    \"bodies\": [\n",
      "        {\n",
      "            \"childs\": [\n",
      "                {\n",
      "                    \"pos\": {\n",
      "                        \"x\": 0,\n",
      "                        \"y\": 0,\n",
      "                        \"z\": 0\n",
      "                    },\n",
      "                    \"color\": \"\",\n",
      "                    \"shapeId\": \"027bd4ec-b16d-47d2-8756-e18dc2af3eb6\",\n",
      "                    \"joints\": null,\n",
      "                    \"xaxis\": 0,\n",
      "                    \"zaxis\": 0,\n",
      "                    \"bounds\": {\n",
      "                        \"x\": 1,\n",
      "                        \"y\": 1,\n",
      "                        \"z\": 1\n",
      "                    }\n",
      "                },\n",
      "                {\n",
      "                    \"pos\": {\n",
      "                        \"x\": 0,\n",
      "                        \"y\": 0,\n",
      "                        \"z\": 0\n",
      "                    },\n",
      "                    \"color\": \"\",\n",
      "                    \"shapeId\": \"\",\n",
      "                    \"joints\": null,\n",
      "                    \"xaxis\": 0,\n",
      "                    \"zaxis\": 0\n",
      "                },\n",
      "                {\n",
      "                    \"pos\": {\n",
      "                        \"x\": 0,\n",
      "                        \"y\": 0,\n",
      "                        \"z\": 0\n",
      "                    },\n",
      "                    \"color\": \"\",\n",
      "                    \"shapeId\": \"9f0f56e8-2c31-4d83-996c-d00a9b296c3f\",\n",
      "                    \"joints\": null,\n",
      "                    \"xaxis\": 0,\n",
      "                    \"zaxis\": 0,\n",
      "                    \"controller\": {\n",
      "                        \"controllers\": null,\n",
      "                        \"id\": 3,\n",
      "                        \"joints\": null,\n",
      "                        \"mode\": 2,\n",
      "                        \"active\": false\n",
      "                    }\n",
      "                },\n",
      "                {\n",
      "                    \"pos\": {\n",
      "                        \"x\": 0,\n",
      "                        \"y\": 0,\n",
      "                        \"z\": 0\n",
      "                    },\n",
      "                    \"color\": \"\",\n",
      "                    \"shapeId\": \"8f7fd0e7-c46e-4944-a414-7ce2437bb30f\",\n",
      "                    \"joints\": null,\n",
      "                    \"xaxis\": 0,\n",
      "                    \"zaxis\": 0,\n",
      "                    \"controller\": {\n",
      "                        \"controllers\": null,\n",
      "                        \"id\": 4,\n",
      "                        \"joints\": null,\n",
      "                        \"seconds\": 1,\n",
      "                        \"ticks\": 20,\n",
      "                        \"active\": false\n",
      "                    }\n",
      "                },\n",
      "                {\n",
      "                    \"pos\": {\n",
      "                        \"x\": 0,\n",
      "                        \"y\": 0,\n",
      "                        \"z\": 0\n",
      "                    },\n",
      "                    \"color\": \"\",\n",
      "                    \"shapeId\": \"add3acc6-a6fd-44e8-a384-a7a16ce13c81\",\n",
      "                    \"joints\": null,\n",
      "                    \"xaxis\": 0,\n",
      "                    \"zaxis\": 0,\n",
      "                    \"controller\": {\n",
      "                        \"controllers\": null,\n",
      "                        \"id\": 5,\n",
      "                        \"joints\": null,\n",
      "                        \"range\": 20,\n",
      "                        \"buttonMode\": true,\n",
      "                        \"colorMode\": false,\n",
      "                        \"color\": \"\",\n",
      "                        \"audioEnable\": false\n",
      "                    }\n",
      "                }\n",
      "            ]\n",
      "        }\n",
      "    ],\n",
      "    \"joints\": null\n",
      "}\n"
     ]
    }
   ],
   "source": [
    "from dataclasses import asdict\n",
    "import json\n",
    "\n",
    "print(json.dumps(asdict(bp), indent=4))"
   ]
  },
  {
   "cell_type": "code",
   "execution_count": null,
   "metadata": {},
   "outputs": [],
   "source": []
  }
 ],
 "metadata": {
  "kernelspec": {
   "display_name": "base",
   "language": "python",
   "name": "python3"
  },
  "language_info": {
   "codemirror_mode": {
    "name": "ipython",
    "version": 3
   },
   "file_extension": ".py",
   "mimetype": "text/x-python",
   "name": "python",
   "nbconvert_exporter": "python",
   "pygments_lexer": "ipython3",
   "version": "3.12.4"
  }
 },
 "nbformat": 4,
 "nbformat_minor": 2
}
